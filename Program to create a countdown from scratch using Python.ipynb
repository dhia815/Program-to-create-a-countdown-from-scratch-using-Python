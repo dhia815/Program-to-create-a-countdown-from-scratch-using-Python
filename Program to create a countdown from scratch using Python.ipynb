{
 "cells": [
  {
   "cell_type": "code",
   "execution_count": 46,
   "id": "97ecf207",
   "metadata": {},
   "outputs": [],
   "source": [
    "import time\n",
    "def countdown():\n",
    "# Take the lenght of the countdown in seconds as \"t\"\n",
    "# and convert the result from string to an integer\n",
    "    t = int(input(\"Please input the length of the countdown in seconds : \"))\n",
    "    while (t > 0): # do this while \"t\" is not 0 :\n",
    "# create from \"t\" which represents the lenght of the countdown in seconds, 2 values\n",
    "# one with the unit of minute and the other with the unit of seconds and store them in a list\n",
    "        Time = list(divmod(t,60)) \n",
    "# if seconds equal 0 then show only the value of minutes\n",
    "        if Time[1] == 0:\n",
    "            timeformat = \"Minutes : \" + str(Time[0])\n",
    "# if not show both minutes and seconds\n",
    "        else:\n",
    "            timeformat = \"Minutes : \" + str(Time[0]) + \"  seconds : \"+ str(Time[1])\n",
    "        print(timeformat, end = \"\\r\" ) # this command allow us to show only the latest value\n",
    "        time.sleep(1) # Wait a second then substract 1(second) from the \"t\"\n",
    "        t -= 1\n",
    "    print(\"  -- Fire in the hole --  \") # if time is up and \"t\" equal 0 print this"
   ]
  },
  {
   "cell_type": "code",
   "execution_count": null,
   "id": "0c44d683",
   "metadata": {},
   "outputs": [
    {
     "name": "stdout",
     "output_type": "stream",
     "text": [
      "Please input the length of the countdown in seconds : 150\n",
      "Minutes : 1  seconds : 22\r"
     ]
    }
   ],
   "source": [
    "countdown()"
   ]
  },
  {
   "cell_type": "code",
   "execution_count": null,
   "id": "67d259cc",
   "metadata": {},
   "outputs": [],
   "source": []
  }
 ],
 "metadata": {
  "kernelspec": {
   "display_name": "Python 3",
   "language": "python",
   "name": "python3"
  },
  "language_info": {
   "codemirror_mode": {
    "name": "ipython",
    "version": 3
   },
   "file_extension": ".py",
   "mimetype": "text/x-python",
   "name": "python",
   "nbconvert_exporter": "python",
   "pygments_lexer": "ipython3",
   "version": "3.8.8"
  }
 },
 "nbformat": 4,
 "nbformat_minor": 5
}
